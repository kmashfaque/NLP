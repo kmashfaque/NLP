{
 "cells": [
  {
   "cell_type": "code",
   "execution_count": 1,
   "id": "97671948",
   "metadata": {},
   "outputs": [],
   "source": [
    "import spacy"
   ]
  },
  {
   "cell_type": "code",
   "execution_count": 2,
   "id": "5cefc10c",
   "metadata": {},
   "outputs": [],
   "source": [
    "from sklearn.feature_extraction.text import TfidfVectorizer\n",
    "\n",
    "corpus = [\n",
    "    \"Thor eating pizza, Loki is eating pizza, Ironman ate pizza already\",\n",
    "    \"Apple is announcing new iphone tomorrow\",\n",
    "    \"Tesla is announcing new model-3 tomorrow\",\n",
    "    \"Google is announcing new pixel-6 tomorrow\",\n",
    "    \"Microsoft is announcing new surface tomorrow\",\n",
    "    \"Amazon is announcing new eco-dot tomorrow\",\n",
    "    \"I am eating biryani and you are eating grapes\"\n",
    "]"
   ]
  },
  {
   "cell_type": "code",
   "execution_count": 3,
   "id": "e177cdab",
   "metadata": {},
   "outputs": [],
   "source": [
    "v=TfidfVectorizer()\n",
    "v.fit(corpus)\n",
    "transform_output = v.transform(corpus)"
   ]
  },
  {
   "cell_type": "code",
   "execution_count": 4,
   "id": "4b0887ff",
   "metadata": {},
   "outputs": [
    {
     "data": {
      "text/plain": [
       "array([0.24266547, 0.72799642, 0.24266547, 0.11527033, 0.24266547,\n",
       "       0.40286636, 0.24266547, 0.24266547, 0.30652086, 0.30652086,\n",
       "       0.26982671, 0.5680354 , 0.5680354 , 0.30652086, 0.30652086,\n",
       "       0.5680354 , 0.30652086, 0.5680354 , 0.26982671, 0.30652086,\n",
       "       0.30652086, 0.5680354 , 0.30652086, 0.26982671, 0.5680354 ,\n",
       "       0.30652086, 0.30652086, 0.5680354 , 0.30652086, 0.5680354 ,\n",
       "       0.26982671, 0.30652086, 0.26652333, 0.26652333, 0.23461736,\n",
       "       0.49391316, 0.49391316, 0.26652333, 0.49391316, 0.33794257,\n",
       "       0.33794257, 0.56104271, 0.33794257, 0.33794257, 0.33794257,\n",
       "       0.33794257])"
      ]
     },
     "execution_count": 4,
     "metadata": {},
     "output_type": "execute_result"
    }
   ],
   "source": [
    "# print(v.vocabulary_)\n",
    "# len(v.vocabulary_)\n",
    "\n",
    "transform_output.data"
   ]
  },
  {
   "cell_type": "code",
   "execution_count": 5,
   "id": "8fb8e90d",
   "metadata": {},
   "outputs": [],
   "source": [
    "all_feature_names = v.get_feature_names()"
   ]
  },
  {
   "cell_type": "code",
   "execution_count": 6,
   "id": "62c47548",
   "metadata": {},
   "outputs": [
    {
     "data": {
      "text/plain": [
       "28"
      ]
     },
     "execution_count": 6,
     "metadata": {},
     "output_type": "execute_result"
    }
   ],
   "source": [
    "len(all_feature_names)"
   ]
  },
  {
   "cell_type": "code",
   "execution_count": 7,
   "id": "0e633feb",
   "metadata": {},
   "outputs": [
    {
     "name": "stdout",
     "output_type": "stream",
     "text": [
      "already:2.386294361119891\n",
      "am:2.386294361119891\n",
      "amazon:2.386294361119891\n",
      "and:2.386294361119891\n",
      "announcing:1.2876820724517808\n",
      "apple:2.386294361119891\n",
      "are:2.386294361119891\n",
      "ate:2.386294361119891\n",
      "biryani:2.386294361119891\n",
      "dot:2.386294361119891\n",
      "eating:1.9808292530117262\n",
      "eco:2.386294361119891\n",
      "google:2.386294361119891\n",
      "grapes:2.386294361119891\n",
      "iphone:2.386294361119891\n",
      "ironman:2.386294361119891\n",
      "is:1.1335313926245225\n",
      "loki:2.386294361119891\n",
      "microsoft:2.386294361119891\n",
      "model:2.386294361119891\n",
      "new:1.2876820724517808\n",
      "pixel:2.386294361119891\n",
      "pizza:2.386294361119891\n",
      "surface:2.386294361119891\n",
      "tesla:2.386294361119891\n",
      "thor:2.386294361119891\n",
      "tomorrow:1.2876820724517808\n",
      "you:2.386294361119891\n"
     ]
    }
   ],
   "source": [
    "for word in all_feature_names:\n",
    "    indx=v.vocabulary_.get(word)\n",
    "    \n",
    "    idf_score=v.idf_[indx]\n",
    "    print(f\"{word}:{idf_score}\")"
   ]
  },
  {
   "cell_type": "code",
   "execution_count": 8,
   "id": "2426cca3",
   "metadata": {},
   "outputs": [
    {
     "data": {
      "text/plain": [
       "array([[0.24266547, 0.        , 0.        , 0.        , 0.        ,\n",
       "        0.        , 0.        , 0.24266547, 0.        , 0.        ,\n",
       "        0.40286636, 0.        , 0.        , 0.        , 0.        ,\n",
       "        0.24266547, 0.11527033, 0.24266547, 0.        , 0.        ,\n",
       "        0.        , 0.        , 0.72799642, 0.        , 0.        ,\n",
       "        0.24266547, 0.        , 0.        ],\n",
       "       [0.        , 0.        , 0.        , 0.        , 0.30652086,\n",
       "        0.5680354 , 0.        , 0.        , 0.        , 0.        ,\n",
       "        0.        , 0.        , 0.        , 0.        , 0.5680354 ,\n",
       "        0.        , 0.26982671, 0.        , 0.        , 0.        ,\n",
       "        0.30652086, 0.        , 0.        , 0.        , 0.        ,\n",
       "        0.        , 0.30652086, 0.        ],\n",
       "       [0.        , 0.        , 0.        , 0.        , 0.30652086,\n",
       "        0.        , 0.        , 0.        , 0.        , 0.        ,\n",
       "        0.        , 0.        , 0.        , 0.        , 0.        ,\n",
       "        0.        , 0.26982671, 0.        , 0.        , 0.5680354 ,\n",
       "        0.30652086, 0.        , 0.        , 0.        , 0.5680354 ,\n",
       "        0.        , 0.30652086, 0.        ],\n",
       "       [0.        , 0.        , 0.        , 0.        , 0.30652086,\n",
       "        0.        , 0.        , 0.        , 0.        , 0.        ,\n",
       "        0.        , 0.        , 0.5680354 , 0.        , 0.        ,\n",
       "        0.        , 0.26982671, 0.        , 0.        , 0.        ,\n",
       "        0.30652086, 0.5680354 , 0.        , 0.        , 0.        ,\n",
       "        0.        , 0.30652086, 0.        ],\n",
       "       [0.        , 0.        , 0.        , 0.        , 0.30652086,\n",
       "        0.        , 0.        , 0.        , 0.        , 0.        ,\n",
       "        0.        , 0.        , 0.        , 0.        , 0.        ,\n",
       "        0.        , 0.26982671, 0.        , 0.5680354 , 0.        ,\n",
       "        0.30652086, 0.        , 0.        , 0.5680354 , 0.        ,\n",
       "        0.        , 0.30652086, 0.        ],\n",
       "       [0.        , 0.        , 0.49391316, 0.        , 0.26652333,\n",
       "        0.        , 0.        , 0.        , 0.        , 0.49391316,\n",
       "        0.        , 0.49391316, 0.        , 0.        , 0.        ,\n",
       "        0.        , 0.23461736, 0.        , 0.        , 0.        ,\n",
       "        0.26652333, 0.        , 0.        , 0.        , 0.        ,\n",
       "        0.        , 0.26652333, 0.        ],\n",
       "       [0.        , 0.33794257, 0.        , 0.33794257, 0.        ,\n",
       "        0.        , 0.33794257, 0.        , 0.33794257, 0.        ,\n",
       "        0.56104271, 0.        , 0.        , 0.33794257, 0.        ,\n",
       "        0.        , 0.        , 0.        , 0.        , 0.        ,\n",
       "        0.        , 0.        , 0.        , 0.        , 0.        ,\n",
       "        0.        , 0.        , 0.33794257]])"
      ]
     },
     "execution_count": 8,
     "metadata": {},
     "output_type": "execute_result"
    }
   ],
   "source": [
    "transform_output.toarray()"
   ]
  },
  {
   "cell_type": "code",
   "execution_count": null,
   "id": "0472d0cc",
   "metadata": {},
   "outputs": [],
   "source": [
    "new_df=pd.read_csv(\"\")"
   ]
  }
 ],
 "metadata": {
  "kernelspec": {
   "display_name": "Python 3 (ipykernel)",
   "language": "python",
   "name": "python3"
  },
  "language_info": {
   "codemirror_mode": {
    "name": "ipython",
    "version": 3
   },
   "file_extension": ".py",
   "mimetype": "text/x-python",
   "name": "python",
   "nbconvert_exporter": "python",
   "pygments_lexer": "ipython3",
   "version": "3.9.7"
  }
 },
 "nbformat": 4,
 "nbformat_minor": 5
}
