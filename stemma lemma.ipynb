{
 "cells": [
  {
   "cell_type": "code",
   "execution_count": 1,
   "id": "9e62a908",
   "metadata": {},
   "outputs": [],
   "source": [
    "import nltk\n",
    "import spacy"
   ]
  },
  {
   "cell_type": "code",
   "execution_count": 2,
   "id": "d34aa6a2",
   "metadata": {},
   "outputs": [],
   "source": [
    "nlp=spacy.load(\"en_core_web_sm\")\n",
    "\n",
    "sentence=nlp(\"Eating by sitting in the garden having fum with the friends\")"
   ]
  },
  {
   "cell_type": "code",
   "execution_count": 3,
   "id": "b41b1bbc",
   "metadata": {},
   "outputs": [
    {
     "name": "stdout",
     "output_type": "stream",
     "text": [
      "Eating ----> eat\n",
      "by ----> by\n",
      "sitting ----> sit\n",
      "in ----> in\n",
      "the ----> the\n",
      "garden ----> garden\n",
      "having ----> having\n",
      "fum ----> fum\n",
      "with ----> with\n",
      "the ----> the\n",
      "friends ----> friend\n"
     ]
    }
   ],
   "source": [
    "for words in sentence:\n",
    "    print(words, \"---->\", words.lemma_)"
   ]
  },
  {
   "cell_type": "code",
   "execution_count": null,
   "id": "3ea72f07",
   "metadata": {},
   "outputs": [],
   "source": []
  },
  {
   "cell_type": "code",
   "execution_count": 4,
   "id": "401de1da",
   "metadata": {},
   "outputs": [
    {
     "name": "stdout",
     "output_type": "stream",
     "text": [
      "Bro -----> Brother\n",
      ", -----> ,\n",
      "you -----> you\n",
      "wanna -----> wanna\n",
      "go -----> go\n",
      "? -----> ?\n",
      "Brah -----> Brother\n",
      ", -----> ,\n",
      "do -----> do\n",
      "n't -----> not\n",
      "say -----> say\n",
      "no -----> no\n",
      "! -----> !\n",
      "I -----> I\n",
      "am -----> be\n",
      "exhausted -----> exhaust\n"
     ]
    }
   ],
   "source": [
    "arr=nlp.get_pipe(\"attribute_ruler\")\n",
    "arr.add([[{\"TEXT\":\"Bro\"}],[{\"TEXT\":\"Brah\"}]],{\"LEMMA\":\"Brother\"})\n",
    "doc=nlp(\"Bro, you wanna go? Brah, don't say no! I am exhausted\")\n",
    "for words in doc:\n",
    "    print(words,\"----->\",words.lemma_)"
   ]
  },
  {
   "cell_type": "code",
   "execution_count": null,
   "id": "5f8ba214",
   "metadata": {},
   "outputs": [],
   "source": []
  },
  {
   "cell_type": "code",
   "execution_count": null,
   "id": "92f7f2e9",
   "metadata": {},
   "outputs": [],
   "source": []
  }
 ],
 "metadata": {
  "kernelspec": {
   "display_name": "Python 3 (ipykernel)",
   "language": "python",
   "name": "python3"
  },
  "language_info": {
   "codemirror_mode": {
    "name": "ipython",
    "version": 3
   },
   "file_extension": ".py",
   "mimetype": "text/x-python",
   "name": "python",
   "nbconvert_exporter": "python",
   "pygments_lexer": "ipython3",
   "version": "3.9.7"
  }
 },
 "nbformat": 4,
 "nbformat_minor": 5
}
