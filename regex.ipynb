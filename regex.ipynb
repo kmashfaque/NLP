{
 "cells": [
  {
   "cell_type": "code",
   "execution_count": 1,
   "id": "a49f6ef0",
   "metadata": {},
   "outputs": [],
   "source": [
    "import re"
   ]
  },
  {
   "cell_type": "code",
   "execution_count": 2,
   "id": "a04bbf83",
   "metadata": {},
   "outputs": [],
   "source": [
    "text='''\n",
    "Born\tElon Reeve Musk\n",
    "June 28, 1971 (age 51)\n",
    "Pretoria, Transvaal, South Africa\n",
    "Education\t\n",
    "University of Pennsylvania (BA, BS)\n",
    "Title\t\n",
    "Founder, CEO, and Chief Engineer of SpaceX\n",
    "CEO and product architect of Tesla, Inc.\n",
    "Founder of The Boring Company and X.com (now part of PayPal)\n",
    "Co-founder of Neuralink, OpenAI, and Zip2\n",
    "President of Musk Foundation\n",
    "Spouse(s)\t\n",
    "Justine Wilson\n",
    "​\n",
    "​(m. 2000; div. 2008)​\n",
    "Talulah Riley\n",
    "​\n",
    "​(m. 2010; div. 2012)​\n",
    "​\n",
    "​(m. 2013; div. 2016)​\n",
    "Partner(s)\tGrimes (2018–2022)[1]\n",
    "Children\t10[a][3]\n",
    "Parents\t\n",
    "Errol Musk (father)\n",
    "Maye Musk (mother)\n",
    "Relatives\t\n",
    "Tosca Musk (sister)\n",
    "Kimbal Musk (brother)\n",
    "Lyndon Rive (cousin)\n",
    "Family\tMusk family\n",
    "Awards\tList of honors and awards\n",
    "Signature\n",
    "'''"
   ]
  },
  {
   "cell_type": "code",
   "execution_count": 4,
   "id": "1961e36b",
   "metadata": {},
   "outputs": [
    {
     "data": {
      "text/plain": [
       "['age 51']"
      ]
     },
     "execution_count": 4,
     "metadata": {},
     "output_type": "execute_result"
    }
   ],
   "source": [
    "pattern=\"Born.+\\n.*(age \\d*)\"\n",
    "matches=re.findall(pattern,text)\n",
    "matches\n"
   ]
  },
  {
   "cell_type": "code",
   "execution_count": 5,
   "id": "6c2b2e26",
   "metadata": {},
   "outputs": [
    {
     "data": {
      "text/plain": [
       "['University of Pennsylvania (BA, BS)']"
      ]
     },
     "execution_count": 5,
     "metadata": {},
     "output_type": "execute_result"
    }
   ],
   "source": [
    "pattern=\"Education.*\\n(.*)\"\n",
    "matches=re.findall(pattern,text)\n",
    "matches"
   ]
  },
  {
   "cell_type": "code",
   "execution_count": 9,
   "id": "8b3f7321",
   "metadata": {},
   "outputs": [
    {
     "data": {
      "text/plain": [
       "[('Tosca Musk (sister)',\n",
       "  'Kimbal Musk (brother)',\n",
       "  'Lyndon Rive (cousin)',\n",
       "  'Family\\tMusk family')]"
      ]
     },
     "execution_count": 9,
     "metadata": {},
     "output_type": "execute_result"
    }
   ],
   "source": [
    "pattern=\"Relatives.*\\n(.*)\\n(.*)\\n(.*)\\n(.*)\\n\"\n",
    "matches=re.findall(pattern,text)\n",
    "matches"
   ]
  },
  {
   "cell_type": "code",
   "execution_count": 15,
   "id": "26c52fcd",
   "metadata": {},
   "outputs": [
    {
     "data": {
      "text/plain": [
       "['(123)-567-8912']"
      ]
     },
     "execution_count": 15,
     "metadata": {},
     "output_type": "execute_result"
    }
   ],
   "source": [
    "chat1 = \"you ask a lot of questions 1234567891, abc@xyz.com\"\n",
    "chat2=\"here it is: (123)-567-8912, abc@xyz.com\"\n",
    "pattern=\"\\d{10}|\\(\\d{3}\\)-\\d{3}-\\d{4}\"\n",
    "matches=re.findall(pattern,chat2)\n",
    "matches\n"
   ]
  },
  {
   "cell_type": "code",
   "execution_count": 30,
   "id": "9e903685",
   "metadata": {},
   "outputs": [
    {
     "data": {
      "text/plain": [
       "['abc@xyz.com', 'abc_@gmail.io', 'abc_@gmail.org']"
      ]
     },
     "execution_count": 30,
     "metadata": {},
     "output_type": "execute_result"
    }
   ],
   "source": [
    "text = '''you ask a lot of questions 1234567891, abc@xyz.com,\n",
    "here it is: (123)-567-8912, abc@xyz_9.com,\n",
    "abc_@gmail.io,\n",
    "abc_@gmail.org'''\n",
    "pattern=\"[A-Za-z_0-9-]+@[A-Za-z]+\\.[A-Za-z]+\"\n",
    "matches=re.findall(pattern,text)\n",
    "matches"
   ]
  }
 ],
 "metadata": {
  "kernelspec": {
   "display_name": "Python 3 (ipykernel)",
   "language": "python",
   "name": "python3"
  },
  "language_info": {
   "codemirror_mode": {
    "name": "ipython",
    "version": 3
   },
   "file_extension": ".py",
   "mimetype": "text/x-python",
   "name": "python",
   "nbconvert_exporter": "python",
   "pygments_lexer": "ipython3",
   "version": "3.9.7"
  }
 },
 "nbformat": 4,
 "nbformat_minor": 5
}
