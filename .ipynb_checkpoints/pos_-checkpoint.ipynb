{
 "cells": [
  {
   "cell_type": "code",
   "execution_count": 1,
   "id": "11c5b183",
   "metadata": {},
   "outputs": [],
   "source": [
    "import spacy"
   ]
  },
  {
   "cell_type": "code",
   "execution_count": 5,
   "id": "294628da",
   "metadata": {},
   "outputs": [
    {
     "name": "stdout",
     "output_type": "stream",
     "text": [
      "Elon ==>> PROPN ==>> proper noun ==>> NNP ==>> noun, proper singular\n",
      "\n",
      "flew ==>> VERB ==>> verb ==>> VBD ==>> verb, past tense\n",
      "\n",
      "to ==>> ADP ==>> adposition ==>> IN ==>> conjunction, subordinating or preposition\n",
      "\n",
      "mars ==>> NOUN ==>> noun ==>> NNS ==>> noun, plural\n",
      "\n",
      "yesterday ==>> NOUN ==>> noun ==>> NN ==>> noun, singular or mass\n",
      "\n",
      ". ==>> PUNCT ==>> punctuation ==>> . ==>> punctuation mark, sentence closer\n",
      "\n",
      "He ==>> PRON ==>> pronoun ==>> PRP ==>> pronoun, personal\n",
      "\n",
      "carried ==>> VERB ==>> verb ==>> VBD ==>> verb, past tense\n",
      "\n",
      "biryani ==>> NOUN ==>> noun ==>> NN ==>> noun, singular or mass\n",
      "\n",
      "masala ==>> NOUN ==>> noun ==>> NN ==>> noun, singular or mass\n",
      "\n",
      "with ==>> ADP ==>> adposition ==>> IN ==>> conjunction, subordinating or preposition\n",
      "\n",
      "him ==>> PRON ==>> pronoun ==>> PRP ==>> pronoun, personal\n",
      "\n"
     ]
    }
   ],
   "source": [
    "nlp=spacy.load(\"en_core_web_sm\")\n",
    "doc = nlp(\"Elon flew to mars yesterday. He carried biryani masala with him\")\n",
    "\n",
    "for token in doc:\n",
    "    print(token.text,\"==>>\",token.pos_,\"==>>\",spacy.explain(token.pos_),\"==>>\",token.tag_,\"==>>\",spacy.explain(token.tag_))\n",
    "    print()"
   ]
  },
  {
   "cell_type": "code",
   "execution_count": null,
   "id": "f5c253dc",
   "metadata": {},
   "outputs": [],
   "source": []
  },
  {
   "cell_type": "code",
   "execution_count": 6,
   "id": "3f307d50",
   "metadata": {},
   "outputs": [
    {
     "name": "stdout",
     "output_type": "stream",
     "text": [
      "quits | VBZ | verb, 3rd person singular present\n"
     ]
    }
   ],
   "source": [
    "doc = nlp(\"He quits the job\")\n",
    "\n",
    "print(doc[1].text, \"|\", doc[1].tag_, \"|\", spacy.explain(doc[1].tag_))"
   ]
  },
  {
   "cell_type": "code",
   "execution_count": 7,
   "id": "3f17c4a3",
   "metadata": {},
   "outputs": [
    {
     "name": "stdout",
     "output_type": "stream",
     "text": [
      "quit | VBD | verb, past tense\n"
     ]
    }
   ],
   "source": [
    "doc = nlp(\"He quit the job\")\n",
    "\n",
    "print(doc[1].text, \"|\", doc[1].tag_, \"|\", spacy.explain(doc[1].tag_))"
   ]
  },
  {
   "cell_type": "code",
   "execution_count": 8,
   "id": "c4572de2",
   "metadata": {},
   "outputs": [],
   "source": [
    "earnings_text=\"\"\"Microsoft Corp. today announced the following results for the quarter ended December 31, 2021, as compared to the corresponding period of last fiscal year:\n",
    "\n",
    "·         Revenue was $51.7 billion and increased 20%\n",
    "·         Operating income was $22.2 billion and increased 24%\n",
    "·         Net income was $18.8 billion and increased 21%\n",
    "·         Diluted earnings per share was $2.48 and increased 22%\n",
    "“Digital technology is the most malleable resource at the world’s disposal to overcome constraints and reimagine everyday work and life,” said Satya Nadella, chairman and chief executive officer of Microsoft. “As tech as a percentage of global GDP continues to increase, we are innovating and investing across diverse and growing markets, with a common underlying technology stack and an operating model that reinforces a common strategy, culture, and sense of purpose.”\n",
    "“Solid commercial execution, represented by strong bookings growth driven by long-term Azure commitments, increased Microsoft Cloud revenue to $22.1 billion, up 32% year over year” said Amy Hood, executive vice president and chief financial officer of Microsoft.\"\"\"\n"
   ]
  },
  {
   "cell_type": "code",
   "execution_count": 42,
   "id": "09d0c8a6",
   "metadata": {},
   "outputs": [
    {
     "name": "stdout",
     "output_type": "stream",
     "text": [
      "$ 51.7\n",
      "$ 22.2\n",
      "$ 18.8\n",
      "$ 2.48\n",
      "$ 22.1\n"
     ]
    }
   ],
   "source": [
    "for currency in doc:\n",
    "    if currency.is_currency and doc[currency.i+1].like_num:\n",
    "        print(currency,doc[currency.i+1])"
   ]
  },
  {
   "cell_type": "code",
   "execution_count": null,
   "id": "4045b0c0",
   "metadata": {},
   "outputs": [],
   "source": []
  },
  {
   "cell_type": "code",
   "execution_count": 9,
   "id": "138dfbfe",
   "metadata": {},
   "outputs": [],
   "source": [
    "doc=nlp(earnings_text)"
   ]
  },
  {
   "cell_type": "code",
   "execution_count": 10,
   "id": "780c21ab",
   "metadata": {},
   "outputs": [],
   "source": [
    "filtered_tokens=[]"
   ]
  },
  {
   "cell_type": "code",
   "execution_count": 14,
   "id": "fde48388",
   "metadata": {},
   "outputs": [],
   "source": [
    "for token in doc:\n",
    "    if token.pos_ not in [\"SPACE\",\"PUCNT\",\"X\"]:\n",
    "        filtered_tokens.append(token)"
   ]
  },
  {
   "cell_type": "code",
   "execution_count": 15,
   "id": "9af53e60",
   "metadata": {},
   "outputs": [
    {
     "data": {
      "text/plain": [
       "[Microsoft,\n",
       " Corp.,\n",
       " today,\n",
       " announced,\n",
       " the,\n",
       " following,\n",
       " results,\n",
       " for,\n",
       " the,\n",
       " quarter]"
      ]
     },
     "execution_count": 15,
     "metadata": {},
     "output_type": "execute_result"
    }
   ],
   "source": [
    "filtered_tokens[:10]"
   ]
  },
  {
   "cell_type": "code",
   "execution_count": 40,
   "id": "c11b62ca",
   "metadata": {},
   "outputs": [
    {
     "data": {
      "text/plain": [
       "{0: 208, 1: 5}"
      ]
     },
     "execution_count": 40,
     "metadata": {},
     "output_type": "execute_result"
    }
   ],
   "source": [
    "count=doc.count_by(spacy.attrs.IS_CURRENCY)\n",
    "count"
   ]
  },
  {
   "cell_type": "code",
   "execution_count": 39,
   "id": "d74cc58d",
   "metadata": {},
   "outputs": [
    {
     "data": {
      "text/plain": [
       "''"
      ]
     },
     "execution_count": 39,
     "metadata": {},
     "output_type": "execute_result"
    }
   ],
   "source": [
    "doc.vocab[0].text"
   ]
  },
  {
   "cell_type": "code",
   "execution_count": 30,
   "id": "eecc6db0",
   "metadata": {},
   "outputs": [
    {
     "name": "stdout",
     "output_type": "stream",
     "text": [
      "PROPN ==>> 15\n",
      "NOUN ==>> 45\n",
      "VERB ==>> 22\n",
      "DET ==>> 9\n",
      "ADP ==>> 16\n",
      "NUM ==>> 16\n",
      "PUNCT ==>> 27\n",
      "SCONJ ==>> 1\n",
      "ADJ ==>> 21\n",
      "SPACE ==>> 10\n",
      "AUX ==>> 6\n",
      "SYM ==>> 5\n",
      "CCONJ ==>> 12\n",
      "ADV ==>> 3\n",
      "PART ==>> 3\n",
      "PRON ==>> 2\n"
     ]
    }
   ],
   "source": [
    "for k,v in count.items():\n",
    "    print(doc.vocab[k].text,\"==>>\",v)"
   ]
  },
  {
   "cell_type": "code",
   "execution_count": 54,
   "id": "cf681e11",
   "metadata": {},
   "outputs": [],
   "source": [
    "with open(\"news/news_story.txt\") as file:\n",
    "    lines=file.read()\n",
    "    \n",
    "doc2=nlp(lines)"
   ]
  },
  {
   "cell_type": "code",
   "execution_count": 56,
   "id": "1de0393e",
   "metadata": {},
   "outputs": [],
   "source": [
    "nouns=[]\n",
    "for token in doc2:\n",
    "    if token.pos_==\"PROPN\":\n",
    "        nouns.append(token)\n",
    "        "
   ]
  },
  {
   "cell_type": "code",
   "execution_count": 58,
   "id": "97e6212a",
   "metadata": {},
   "outputs": [],
   "source": [
    "numbers=[]\n",
    "\n",
    "for token in doc2:\n",
    "    if token.like_num:\n",
    "        numbers.append(token)"
   ]
  },
  {
   "cell_type": "code",
   "execution_count": 65,
   "id": "7ec33366",
   "metadata": {},
   "outputs": [
    {
     "data": {
      "text/plain": [
       "{96: 15,\n",
       " 92: 45,\n",
       " 100: 22,\n",
       " 90: 9,\n",
       " 85: 16,\n",
       " 93: 16,\n",
       " 97: 27,\n",
       " 98: 1,\n",
       " 84: 21,\n",
       " 103: 10,\n",
       " 87: 6,\n",
       " 99: 5,\n",
       " 89: 12,\n",
       " 86: 3,\n",
       " 94: 3,\n",
       " 95: 2}"
      ]
     },
     "execution_count": 65,
     "metadata": {},
     "output_type": "execute_result"
    }
   ],
   "source": [
    "count = doc.count_by(spacy.attrs.POS)\n",
    "count"
   ]
  },
  {
   "cell_type": "code",
   "execution_count": 66,
   "id": "e418a266",
   "metadata": {},
   "outputs": [
    {
     "name": "stdout",
     "output_type": "stream",
     "text": [
      "PROPN | 15\n",
      "NOUN | 45\n",
      "VERB | 22\n",
      "DET | 9\n",
      "ADP | 16\n",
      "NUM | 16\n",
      "PUNCT | 27\n",
      "SCONJ | 1\n",
      "ADJ | 21\n",
      "SPACE | 10\n",
      "AUX | 6\n",
      "SYM | 5\n",
      "CCONJ | 12\n",
      "ADV | 3\n",
      "PART | 3\n",
      "PRON | 2\n"
     ]
    }
   ],
   "source": [
    "for k,v in count.items():\n",
    "    print(doc.vocab[k].text, \"|\",v)"
   ]
  },
  {
   "cell_type": "code",
   "execution_count": 67,
   "id": "5803eaec",
   "metadata": {},
   "outputs": [],
   "source": [
    "val=[1374, 1350, 1459, 1618, 1706, 1762, 1852, 2007, 2240, 2340, 2610,\n",
    "     2840, 3126, 3337, 3570, 3812, 4216, 4434, 4730, 4975, 5332, 5800,\n",
    "     6162, 6540, 6805, 7261, 7478, 7642, 7839, 8336, 8736, 8279, 8269,\n",
    "     8824, 8217, 7978, 7541, 7383, 7116, 6836, 6447, 6220, 5864, 5408,\n",
    "     4881, 4681, 4337, 4015, 3799, 3531, 3320, 3040, 2866, 2629, 2488,\n",
    "     2244, 1981, 1905, 1734, 1540, 1437, 1378, 1233, 1186]"
   ]
  },
  {
   "cell_type": "code",
   "execution_count": 68,
   "id": "e57535e7",
   "metadata": {},
   "outputs": [
    {
     "name": "stdout",
     "output_type": "stream",
     "text": [
      "281896\n"
     ]
    }
   ],
   "source": [
    "sum=0\n",
    "for num in val:\n",
    "    sum+=num\n",
    "print(sum)\n",
    "    "
   ]
  },
  {
   "cell_type": "code",
   "execution_count": 69,
   "id": "1b78e837",
   "metadata": {},
   "outputs": [
    {
     "data": {
      "text/plain": [
       "48104"
      ]
     },
     "execution_count": 69,
     "metadata": {},
     "output_type": "execute_result"
    }
   ],
   "source": [
    "330000-sum\n",
    "\n"
   ]
  },
  {
   "cell_type": "code",
   "execution_count": null,
   "id": "3dcaa1b1",
   "metadata": {},
   "outputs": [],
   "source": []
  },
  {
   "cell_type": "code",
   "execution_count": null,
   "id": "1e1d8a63",
   "metadata": {},
   "outputs": [],
   "source": []
  }
 ],
 "metadata": {
  "kernelspec": {
   "display_name": "Python 3 (ipykernel)",
   "language": "python",
   "name": "python3"
  },
  "language_info": {
   "codemirror_mode": {
    "name": "ipython",
    "version": 3
   },
   "file_extension": ".py",
   "mimetype": "text/x-python",
   "name": "python",
   "nbconvert_exporter": "python",
   "pygments_lexer": "ipython3",
   "version": "3.9.7"
  }
 },
 "nbformat": 4,
 "nbformat_minor": 5
}
